{
  "nbformat": 4,
  "nbformat_minor": 0,
  "metadata": {
    "colab": {
      "name": "Introduzione-generale.ipynb",
      "provenance": [],
      "collapsed_sections": [],
      "toc_visible": true,
      "include_colab_link": true
    },
    "kernelspec": {
      "display_name": "Python 3",
      "language": "python",
      "name": "python3"
    },
    "language_info": {
      "codemirror_mode": {
        "name": "ipython",
        "version": 3
      },
      "file_extension": ".py",
      "mimetype": "text/x-python",
      "name": "python",
      "nbconvert_exporter": "python",
      "pygments_lexer": "ipython3",
      "version": "3.6.9"
    }
  },
  "cells": [
    {
      "cell_type": "markdown",
      "metadata": {
        "id": "view-in-github",
        "colab_type": "text"
      },
      "source": [
        "<a href=\"https://colab.research.google.com/github/giorgiofalcone/machine-learning-fav/blob/master/notebook/Introduzione_generale.ipynb\" target=\"_parent\"><img src=\"https://colab.research.google.com/assets/colab-badge.svg\" alt=\"Open In Colab\"/></a>"
      ]
    },
    {
      "cell_type": "markdown",
      "metadata": {
        "colab_type": "text",
        "id": "RzsvZ1lCyjCq"
      },
      "source": [
        "# Introduzione\n",
        "\n",
        "\n"
      ]
    },
    {
      "cell_type": "code",
      "metadata": {
        "id": "yCaUidp8CesM",
        "colab_type": "code",
        "colab": {
          "base_uri": "https://localhost:8080/",
          "height": 138
        },
        "outputId": "791fc549-38b1-4dad-8271-640f4853fceb"
      },
      "source": [
        "from google.colab import drive\n",
        "drive.mount('/content/gdrive')\n",
        "%cd /content/gdrive"
      ],
      "execution_count": null,
      "outputs": [
        {
          "output_type": "stream",
          "text": [
            "Go to this URL in a browser: https://accounts.google.com/o/oauth2/auth?client_id=947318989803-6bn6qk8qdgf4n4g3pfee6491hc0brc4i.apps.googleusercontent.com&redirect_uri=urn%3aietf%3awg%3aoauth%3a2.0%3aoob&response_type=code&scope=email%20https%3a%2f%2fwww.googleapis.com%2fauth%2fdocs.test%20https%3a%2f%2fwww.googleapis.com%2fauth%2fdrive%20https%3a%2f%2fwww.googleapis.com%2fauth%2fdrive.photos.readonly%20https%3a%2f%2fwww.googleapis.com%2fauth%2fpeopleapi.readonly\n",
            "\n",
            "Enter your authorization code:\n",
            "··········\n",
            "Mounted at /content/gdrive\n",
            "/content/gdrive\n"
          ],
          "name": "stdout"
        }
      ]
    },
    {
      "cell_type": "code",
      "metadata": {
        "id": "TTSASW4_Gz6G",
        "colab_type": "code",
        "colab": {
          "base_uri": "https://localhost:8080/",
          "height": 34
        },
        "outputId": "6d58f77a-9a43-433d-b2ff-fb913d906006"
      },
      "source": [
        "%cd /content/gdrive/My Drive/Colab Notebooks/machine_learning_fav"
      ],
      "execution_count": 2,
      "outputs": [
        {
          "output_type": "stream",
          "text": [
            "/content/gdrive/My Drive/Colab Notebooks/machine_learning_fav\n"
          ],
          "name": "stdout"
        }
      ]
    },
    {
      "cell_type": "code",
      "metadata": {
        "id": "3KA-vAbHHN2i",
        "colab_type": "code",
        "colab": {
          "base_uri": "https://localhost:8080/",
          "height": 34
        },
        "outputId": "706aa7e6-70e2-49df-cd37-896d71cb7f29"
      },
      "source": [
        "!pwd"
      ],
      "execution_count": 3,
      "outputs": [
        {
          "output_type": "stream",
          "text": [
            "/content/gdrive/My Drive/Colab Notebooks/machine_learning_fav\n"
          ],
          "name": "stdout"
        }
      ]
    },
    {
      "cell_type": "code",
      "metadata": {
        "id": "BwfT2pNUHSs6",
        "colab_type": "code",
        "colab": {
          "base_uri": "https://localhost:8080/",
          "height": 825
        },
        "outputId": "fe02359c-430f-44fb-c787-58b377854083"
      },
      "source": [
        "import pandas as pd\n",
        "\n",
        "df = pd.read_excel(\"/content/gdrive/My Drive/Colab Notebooks/machine_learning_fav/dataset/eventi_Horizon.xlsx\")\n",
        "df"
      ],
      "execution_count": 7,
      "outputs": [
        {
          "output_type": "execute_result",
          "data": {
            "text/html": [
              "<div>\n",
              "<style scoped>\n",
              "    .dataframe tbody tr th:only-of-type {\n",
              "        vertical-align: middle;\n",
              "    }\n",
              "\n",
              "    .dataframe tbody tr th {\n",
              "        vertical-align: top;\n",
              "    }\n",
              "\n",
              "    .dataframe thead th {\n",
              "        text-align: right;\n",
              "    }\n",
              "</style>\n",
              "<table border=\"1\" class=\"dataframe\">\n",
              "  <thead>\n",
              "    <tr style=\"text-align: right;\">\n",
              "      <th></th>\n",
              "      <th>Time</th>\n",
              "      <th>Event ID</th>\n",
              "      <th>Module</th>\n",
              "      <th>Event Type</th>\n",
              "      <th>Server Name</th>\n",
              "      <th>Severity</th>\n",
              "      <th>Event Text</th>\n",
              "      <th>Client IP Address</th>\n",
              "    </tr>\n",
              "  </thead>\n",
              "  <tbody>\n",
              "    <tr>\n",
              "      <th>0</th>\n",
              "      <td>2019-04-15 12:01:00</td>\n",
              "      <td>924851</td>\n",
              "      <td>Broker</td>\n",
              "      <td>TIMING_PROFILER_GET_CONFIGURATION</td>\n",
              "      <td>che02sp001.ima.group</td>\n",
              "      <td>INFO</td>\n",
              "      <td>Get configuration timing profile on CHE02SP001...</td>\n",
              "      <td>NO_DATA</td>\n",
              "    </tr>\n",
              "    <tr>\n",
              "      <th>1</th>\n",
              "      <td>2019-04-15 12:01:00</td>\n",
              "      <td>924850</td>\n",
              "      <td>Vlsi</td>\n",
              "      <td>VLSI_USERLOGGEDIN</td>\n",
              "      <td>ima02sp119.ima.group</td>\n",
              "      <td>AUDIT_SUCCESS</td>\n",
              "      <td>User ima\\svc_vmware_r has logged in to View Ad...</td>\n",
              "      <td>NO_DATA</td>\n",
              "    </tr>\n",
              "    <tr>\n",
              "      <th>2</th>\n",
              "      <td>2019-04-15 12:01:00</td>\n",
              "      <td>924851</td>\n",
              "      <td>Broker</td>\n",
              "      <td>TIMING_PROFILER_GET_CONFIGURATION</td>\n",
              "      <td>che02sp001.ima.group</td>\n",
              "      <td>INFO</td>\n",
              "      <td>Get configuration timing profile on CHE02SP001...</td>\n",
              "      <td>NO_DATA</td>\n",
              "    </tr>\n",
              "    <tr>\n",
              "      <th>3</th>\n",
              "      <td>2019-04-15 12:01:00</td>\n",
              "      <td>924850</td>\n",
              "      <td>Vlsi</td>\n",
              "      <td>VLSI_USERLOGGEDIN</td>\n",
              "      <td>ima02sp119.ima.group</td>\n",
              "      <td>AUDIT_SUCCESS</td>\n",
              "      <td>User ima\\svc_vmware_r has logged in to View Ad...</td>\n",
              "      <td>NO_DATA</td>\n",
              "    </tr>\n",
              "    <tr>\n",
              "      <th>4</th>\n",
              "      <td>2019-04-15 12:04:00</td>\n",
              "      <td>924852</td>\n",
              "      <td>Vlsi</td>\n",
              "      <td>VLSI_USERLOGGEDIN</td>\n",
              "      <td>ima02sp119.ima.group</td>\n",
              "      <td>AUDIT_SUCCESS</td>\n",
              "      <td>User ima\\svc_vmware_r has logged in to View Ad...</td>\n",
              "      <td>NO_DATA</td>\n",
              "    </tr>\n",
              "    <tr>\n",
              "      <th>...</th>\n",
              "      <td>...</td>\n",
              "      <td>...</td>\n",
              "      <td>...</td>\n",
              "      <td>...</td>\n",
              "      <td>...</td>\n",
              "      <td>...</td>\n",
              "      <td>...</td>\n",
              "      <td>...</td>\n",
              "    </tr>\n",
              "    <tr>\n",
              "      <th>646498</th>\n",
              "      <td>2019-10-15 12:23:00</td>\n",
              "      <td>1248144</td>\n",
              "      <td>Broker</td>\n",
              "      <td>TIMING_PROFILER_TUNNEL_CONNECTION</td>\n",
              "      <td>ima02sp059.ima.group</td>\n",
              "      <td>INFO</td>\n",
              "      <td>Tunnel connection timing profile for ima.group...</td>\n",
              "      <td>NO_DATA</td>\n",
              "    </tr>\n",
              "    <tr>\n",
              "      <th>646499</th>\n",
              "      <td>2019-10-15 12:23:00</td>\n",
              "      <td>1248143</td>\n",
              "      <td>Broker</td>\n",
              "      <td>TIMING_PROFILER_GET_LAUNCH_ITEMS</td>\n",
              "      <td>ima02sp059.ima.group</td>\n",
              "      <td>INFO</td>\n",
              "      <td>Get launch items timing profile for ima.group\\...</td>\n",
              "      <td>NO_DATA</td>\n",
              "    </tr>\n",
              "    <tr>\n",
              "      <th>646500</th>\n",
              "      <td>2019-10-15 12:23:00</td>\n",
              "      <td>1248142</td>\n",
              "      <td>Broker</td>\n",
              "      <td>TIMING_PROFILER_USER_AUTHENTICATION</td>\n",
              "      <td>ima02sp059.ima.group</td>\n",
              "      <td>INFO</td>\n",
              "      <td>User authentication timing profile for ima.gro...</td>\n",
              "      <td>NO_DATA</td>\n",
              "    </tr>\n",
              "    <tr>\n",
              "      <th>646501</th>\n",
              "      <td>2019-10-15 12:23:00</td>\n",
              "      <td>1248147</td>\n",
              "      <td>Broker</td>\n",
              "      <td>BROKER_USERLOGGEDIN</td>\n",
              "      <td>ima02sp059.ima.group</td>\n",
              "      <td>AUDIT_SUCCESS</td>\n",
              "      <td>User IMA\\bedeia has logged in</td>\n",
              "      <td>79.10.37.219</td>\n",
              "    </tr>\n",
              "    <tr>\n",
              "      <th>646502</th>\n",
              "      <td>Time</td>\n",
              "      <td>Event ID</td>\n",
              "      <td>Module</td>\n",
              "      <td>Event Type</td>\n",
              "      <td>Server Name</td>\n",
              "      <td>Severity</td>\n",
              "      <td>Event Text</td>\n",
              "      <td>Client IP Address</td>\n",
              "    </tr>\n",
              "  </tbody>\n",
              "</table>\n",
              "<p>646503 rows × 8 columns</p>\n",
              "</div>"
            ],
            "text/plain": [
              "                       Time  ...  Client IP Address\n",
              "0       2019-04-15 12:01:00  ...            NO_DATA\n",
              "1       2019-04-15 12:01:00  ...            NO_DATA\n",
              "2       2019-04-15 12:01:00  ...            NO_DATA\n",
              "3       2019-04-15 12:01:00  ...            NO_DATA\n",
              "4       2019-04-15 12:04:00  ...            NO_DATA\n",
              "...                     ...  ...                ...\n",
              "646498  2019-10-15 12:23:00  ...            NO_DATA\n",
              "646499  2019-10-15 12:23:00  ...            NO_DATA\n",
              "646500  2019-10-15 12:23:00  ...            NO_DATA\n",
              "646501  2019-10-15 12:23:00  ...       79.10.37.219\n",
              "646502                 Time  ...  Client IP Address\n",
              "\n",
              "[646503 rows x 8 columns]"
            ]
          },
          "metadata": {
            "tags": []
          },
          "execution_count": 7
        }
      ]
    },
    {
      "cell_type": "markdown",
      "metadata": {
        "colab_type": "text",
        "id": "w2bUAogxynAL"
      },
      "source": [
        "## Informazioni  \n",
        "\n",
        "### Docenti\n",
        "\n",
        "* Manuel Rucci    manuel.rucci@t3lab.it\n",
        "* Daniele Grotti  danielegrottiuk@gmail.com\n",
        "\n",
        "### Domande\n",
        "\n",
        "* Per domande relative ad argomenti fatti a lezione o dubbi di qualunque tipo come installazione di programmi o errori di codice scrivere a questa email visiont3lab@gmail.com\n",
        "\n",
        "### Materiale del Corso\n",
        "\n",
        "* [Github Repository](https://github.com/visiont3lab/tecnologie_data_science)\n",
        "* [Website Book](https://visiont3lab.github.io/tecnologie_data_science/)\n",
        "\n",
        "#### Extra\n",
        "\n",
        "Materiale associato ai corsi di data visualization e machine learning.\n",
        "* [Materiale del corso Data Visualization](https://github.com/visiont3lab/data-visualization)\n",
        "* [Materiale del corso Machine Learning](https://github.com/visiont3lab/machine_learning)\n",
        "\n",
        "\n"
      ]
    },
    {
      "cell_type": "markdown",
      "metadata": {
        "colab_type": "text",
        "id": "x9EWTD6xqFaj"
      },
      "source": [
        "## Linguaggio di Programmazione: Python"
      ]
    },
    {
      "cell_type": "markdown",
      "metadata": {
        "colab_type": "text",
        "id": "M8sOvxlRqPLu"
      },
      "source": [
        "[Pyhton](https://www.python.org/) è un linguaggio di programmazione interpretato di alto livello. Esso fu create da Guido an Rossum nel 1991. Sono state rilasciate diverse versioni di Python in particolare Python2 e Python3 e in questo corso utilizzermo Python3 in quanto Python2 è deprecato. La scelta di utilizzare python come linguaggio è dovuta al fatto che esso offre una grande varietà di pacchetti (o librerie) che permettoro facilmente di approcciare al mondo di data-science. Utilizzando Python è possibile visualizzare grafici 2D e 3D utilizzando librerie come matplotlib, seaborn, echarts, plotly, creare algoritmi di Regressisione  e Classificazione per analizzare dati usando librerie come scikit-learn, utilizzare il calcolo vettoriale e matriciale con numpy e anche manipolare tabelle di dati (come fogli excel) usando pandas.\n"
      ]
    },
    {
      "cell_type": "markdown",
      "metadata": {
        "colab_type": "text",
        "id": "EfP-rat4t5sa"
      },
      "source": [
        "## Ambiente di Sviluppo Online: Google-Colaboratory\n"
      ]
    },
    {
      "cell_type": "markdown",
      "metadata": {
        "colab_type": "text",
        "id": "RaFUE8f7uHrE"
      },
      "source": [
        "Utilizzermo [Google-Colaboratory](https://colab.research.google.com/notebooks/welcome.ipynb) come piattorma di scrittura ed esecuzione codice. Quest'ultimo è un ambiente di sviluppo creato dal Google Research Team che permette a chiunque gratuitamente di eseguire codice nel browser. In particolare esso fornisce all'utente la possibilitá di editare Jupyter Notebooks senza che l'utente debba installare alcun programma sul propio pc. Inoltre è connesso a google drive e per questo motivo ogni notebook editato attraverso questa piattaforma viene automaticamente salvato nel Google drive dell'utente. Questa piattorma è gratuita e offre risorse di computazione (12GB di Ram, High Performace CPU e Gpu) valide che permettono a chiunque di avere tutti i mezzi necessari per programmare e sviluppare nuovi algoritmi di machine learning, deep learning.  \n",
        "\n",
        "In termini più tecnici  Gogole Colab è un servizio fornito da Google  a cui accediamo tramite browser. In particolare tramite il browser accediamo a un Jupyter notebook che sta andando su una macchina di Google che non richiede nessun setup per essere utilizzato, inoltre esso fornisce acesso gratutio a risorse computazionali elevate come GPU e TPU.\n",
        "\n",
        "Per avere più informazioni sulle prinpali funzionalitá di Google Colaboratory consultare [Google Colab Welcome Notebook](https://colab.research.google.com/notebooks/welcome.ipynb)"
      ]
    },
    {
      "cell_type": "markdown",
      "metadata": {
        "colab_type": "text",
        "id": "F5iw2wLJ4lgL"
      },
      "source": [
        "## Ambiente di Sviluppo Offline: Anaconda \n",
        "\n",
        "[Anaconda Indivual Edition](https://www.anaconda.com/products/individual) è un insieme di tools tra cui librerie e ambiente di sviluppo pensato per data science.  Esso necessita di essere installato sul proprio pc ma allo stesso tempo l'installazione ha l'obbiettivo di fornire all'utente tutto il materiale necessario per approcciare al mondo di data science usando i linguaggi programmazione R e Python. Pertanto è un ottima scelta per avere un setup di data science installato sul proprio pc.\n",
        "\n",
        "Per quanto riguarda l'installazione è consigliato scegliere **64-Bit Graphical Installer Python 3.7** poichè la versione Pyhton 2.7 è deprecata.\n"
      ]
    }
  ]
}